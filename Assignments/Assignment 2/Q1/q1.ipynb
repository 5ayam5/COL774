{
 "cells": [
  {
   "cell_type": "code",
   "execution_count": 111,
   "source": [
    "import numpy as np\n",
    "import json\n",
    "import re\n",
    "from collections import defaultdict, Counter"
   ],
   "outputs": [],
   "metadata": {}
  },
  {
   "cell_type": "code",
   "execution_count": 112,
   "source": [
    "K = 5\n",
    "TRAIN_DATA = \"reviews_Digital_Music_5.json/Music_Review_train.json\"\n",
    "TEST_DATA = \"reviews_Digital_Music_5.json/Music_Review_test.json\""
   ],
   "outputs": [],
   "metadata": {}
  },
  {
   "cell_type": "code",
   "execution_count": 113,
   "source": [
    "def extract_data(file: str, split):\n",
    "\twith open(file) as f:\n",
    "\t\tX = []\n",
    "\t\tY = []\n",
    "\t\tfor line in f:\n",
    "\t\t\tX.append(defaultdict(int))\n",
    "\t\t\tx = json.loads(line)\n",
    "\t\t\tY.append(int(x['overall']))\n",
    "\t\t\tfor word in split(x['reviewText']):\n",
    "\t\t\t\tX[-1][word] += 1\n",
    "\t\treturn np.array(X), np.array(Y)"
   ],
   "outputs": [],
   "metadata": {}
  },
  {
   "cell_type": "code",
   "execution_count": 122,
   "source": [
    "def train_model(X: np.ndarray, Y: np.ndarray):\n",
    "\tvocab = defaultdict(lambda: np.ones(K))\n",
    "\tPhi = np.zeros(K, np.float64)\n",
    "\tn = np.zeros(K, np.int32)\n",
    "\tfor x, y in zip(X, Y):\n",
    "\t\ty -= 1\n",
    "\t\tPhi[y] += 1\n",
    "\t\tfor word, count in x.items():\n",
    "\t\t\tvocab[word][y] += count\n",
    "\t\t\tn[y] += count\n",
    "\tn += len(vocab)\n",
    "\tfor word in vocab:\n",
    "\t\tvocab[word] = np.log(vocab[word] / n)\n",
    "\treturn vocab, np.log(Phi / np.sum(Phi))"
   ],
   "outputs": [],
   "metadata": {}
  },
  {
   "cell_type": "code",
   "execution_count": 125,
   "source": [
    "def predict_nb(vocab: defaultdict, Phi: np.ndarray, x: defaultdict):\n",
    "\tpred = -1\n",
    "\tbest = -float(\"inf\")\n",
    "\tfor y, phi in enumerate(Phi):\n",
    "\t\tprob = phi\n",
    "\t\tfor word in x:\n",
    "\t\t\tif word in vocab:\n",
    "\t\t\t\tprob += vocab[word][y] * x[word]\n",
    "\t\tif prob > best:\n",
    "\t\t\tbest = prob\n",
    "\t\t\tpred = y + 1\n",
    "\treturn pred"
   ],
   "outputs": [],
   "metadata": {}
  },
  {
   "cell_type": "code",
   "execution_count": 116,
   "source": [
    "def accuracy(X: np.ndarray, Y: np.ndarray, prediction):\n",
    "\treturn sum(prediction(X) == Y) / Y.shape[0]"
   ],
   "outputs": [],
   "metadata": {}
  },
  {
   "cell_type": "code",
   "execution_count": 117,
   "source": [
    "def confusion_matrix(Y: np.ndarray, pred_Y: np.ndarray):\n",
    "\tconfusion = np.zeros((K, K), np.int32)\n",
    "\tfor y, pred_y in zip(Y, pred_Y):\n",
    "\t\tconfusion[y - 1][pred_y - 1] += 1\n",
    "\treturn confusion"
   ],
   "outputs": [],
   "metadata": {}
  },
  {
   "cell_type": "code",
   "execution_count": 123,
   "source": [
    "def nb_default(output=\"output/default\"):\n",
    "\ttraining_data = extract_data(TRAIN_DATA, str.split)\n",
    "\ttest_data = extract_data(TEST_DATA, str.split)\n",
    "\tvocab, Phi = train_model(*training_data)\n",
    "\tnaive_bayes = np.vectorize(lambda x: predict_nb(vocab, Phi, x))\n",
    "\tm = test_data[1].shape[0]\n",
    "\ttraining_pred = naive_bayes(training_data[0])\n",
    "\ttest_pred = naive_bayes(test_data[0])\n",
    "\twith open(output, 'w+') as f:\n",
    "\t\tf.write(\"train_accuracy   = {}\\n\".format(accuracy(*training_data, lambda X: training_pred)))\n",
    "\t\tf.write(\"test_accuracy    = {}\\n\".format(accuracy(*test_data, lambda X: test_pred)))\n",
    "\t\tf.write(\"random_accuracy  = {}\\n\".format(accuracy(*test_data, lambda X: np.random.randint(1, 6, m))))\n",
    "\t\tf.write(\"mode_accuracy    = {}\\n\".format(accuracy(*test_data, lambda X: np.full(m, Counter(test_data[1]).most_common(1)[0][0]))))\n",
    "\t\tf.write(\"confusion_matrix (test) =\\n{}\\n\".format(confusion_matrix(training_data[1], training_pred)))\n",
    "\t\tf.write(\"confusion_matrix (training) =\\n{}\".format(confusion_matrix(test_data[1], test_pred)))\n"
   ],
   "outputs": [],
   "metadata": {}
  },
  {
   "cell_type": "code",
   "execution_count": 126,
   "source": [
    "nb_default()"
   ],
   "outputs": [],
   "metadata": {}
  }
 ],
 "metadata": {
  "orig_nbformat": 4,
  "language_info": {
   "name": "python",
   "version": "3.9.5",
   "mimetype": "text/x-python",
   "codemirror_mode": {
    "name": "ipython",
    "version": 3
   },
   "pygments_lexer": "ipython3",
   "nbconvert_exporter": "python",
   "file_extension": ".py"
  },
  "kernelspec": {
   "name": "python3",
   "display_name": "Python 3.9.5 64-bit ('base': conda)"
  },
  "interpreter": {
   "hash": "c88bcd8217886c4a06b3653a3d64d637eca0a96d4c4031ee5dfe8cf426268753"
  }
 },
 "nbformat": 4,
 "nbformat_minor": 2
}