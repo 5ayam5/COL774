{
 "cells": [
  {
   "cell_type": "code",
   "execution_count": 1,
   "source": [
    "import numpy as np\n",
    "import cvxopt\n",
    "import libsvm.svmutil as svm"
   ],
   "outputs": [],
   "metadata": {}
  },
  {
   "cell_type": "code",
   "execution_count": 2,
   "source": [
    "TRAIN_DATA = \"mnist/train.csv\"\n",
    "TEST_DATA = \"mnist/test.csv\"\n",
    "GAMMA = 0.05"
   ],
   "outputs": [],
   "metadata": {}
  },
  {
   "cell_type": "code",
   "execution_count": 3,
   "source": [
    "def extract_data(file: str, subset: list[int]):\n",
    "\tdata = np.genfromtxt(file, delimiter=',')\n",
    "\tX = data[:, :-1] / 255\n",
    "\tY = np.array(data[:, -1], np.int32)\n",
    "\tindices = np.where(np.vectorize(lambda y: y in subset)(Y))\n",
    "\tX = X[indices]\n",
    "\tY = Y[indices]\n",
    "\tm = Y.shape[0]\n",
    "\tY = np.reshape(Y, (m, 1))\n",
    "\tpermutation = np.random.permutation(m)\n",
    "\treturn X[permutation], Y[permutation]"
   ],
   "outputs": [],
   "metadata": {}
  },
  {
   "cell_type": "code",
   "execution_count": 4,
   "source": [
    "def linear_prod(X1: np.ndarray, X2: np.ndarray, *args):\n",
    "\treturn np.matmul(X1, X2.T)"
   ],
   "outputs": [],
   "metadata": {}
  },
  {
   "cell_type": "code",
   "execution_count": 5,
   "source": [
    "def gaussian_prod(X1: np.ndarray, X2: np.ndarray, gamma: float):\n",
    "\tprod1 = np.reshape(np.einsum('ij,ij->i', X1, X1), (X1.shape[0], 1))\n",
    "\tprod2 = np.reshape(np.einsum('ij,ij->i', X2, X2), (X2.shape[0], 1))\n",
    "\tprod = prod1 + prod2.T - 2 * np.matmul(X1, X2.T)\n",
    "\treturn np.exp(-gamma * prod)"
   ],
   "outputs": [],
   "metadata": {}
  },
  {
   "cell_type": "code",
   "execution_count": 6,
   "source": [
    "def svm_cvxopt(X: np.ndarray, Y: np.ndarray, c: float, tol: float, find_prod, gamma: float):\n",
    "\tshape = (Y.shape[0], 1)\n",
    "\n",
    "\tprod = find_prod(X, X, gamma)\n",
    "\tP = cvxopt.matrix(np.matmul(Y, Y.T) * prod)\n",
    "\n",
    "\tq = cvxopt.matrix(-np.ones(shape))\n",
    "\n",
    "\tG = np.identity(shape[0])\n",
    "\tG = cvxopt.matrix(np.append(G, -G, axis=0))\n",
    "\n",
    "\th = np.ones(shape)\n",
    "\th = cvxopt.matrix(np.append(c * h, 0 * h, axis=0))\n",
    "\n",
    "\tA = cvxopt.matrix(Y.T, tc='d')\n",
    "\n",
    "\tb = cvxopt.matrix(0.0)\n",
    "\t\n",
    "\tsol = cvxopt.solvers.qp(P, q, G, h, A, b, options={'show_progress': False})\n",
    "\tif sol['status'] == \"unknown\":\n",
    "\t\treturn None\n",
    "\n",
    "\talpha = np.reshape(np.array(sol['x']), shape)\n",
    "\tinner_prod = np.sum(alpha * Y * prod, 0)\n",
    "\n",
    "\tindices = [i for i in range(shape[0]) if alpha[i] <= c and alpha[i] >= tol]\n",
    "\n",
    "\tM = max(indices, key=lambda i: -float(\"inf\") if Y[i] == 1 or alpha[i] >= c - tol else inner_prod[i])\n",
    "\tm = min(indices, key=lambda i: float(\"inf\") if Y[i] == -1 or alpha[i] >= c - tol else inner_prod[i])\n",
    "\tb = -(inner_prod[M] + inner_prod[m]) / 2\n",
    "\n",
    "\treturn indices, alpha[indices], b"
   ],
   "outputs": [],
   "metadata": {}
  },
  {
   "cell_type": "code",
   "execution_count": 7,
   "source": [
    "def linear_prediction(w: np.ndarray, b: float, X: np.ndarray):\n",
    "\treturn np.where(linear_prod(X, w.T) + b >= 0, 1, -1)"
   ],
   "outputs": [],
   "metadata": {}
  },
  {
   "cell_type": "code",
   "execution_count": 8,
   "source": [
    "def gaussian_prediction(alpha: np.ndarray, support_Y: np.ndarray, support_X: np.ndarray, b: float, X: np.ndarray):\n",
    "\treturn np.reshape(np.where(np.sum(alpha * support_Y * gaussian_prod(support_X, X, GAMMA), 0) + b >= 0, 1, -1), (X.shape[0], 1))"
   ],
   "outputs": [],
   "metadata": {}
  },
  {
   "cell_type": "code",
   "execution_count": 9,
   "source": [
    "def accuracy(X: np.ndarray, Y: np.ndarray, pred):\n",
    "\treturn 100 * sum(pred(X) == Y)[0] / Y.shape[0]"
   ],
   "outputs": [],
   "metadata": {}
  },
  {
   "cell_type": "code",
   "execution_count": 10,
   "source": [
    "def accuracy_util_cvxopt(X_train: np.ndarray, Y_train: np.ndarray, X_test: np.ndarray, Y_test: np.ndarray, pred):\n",
    "\ttrain_accuracy = accuracy(X_train, Y_train, pred)\n",
    "\ttest_accuracy = accuracy(X_test, Y_test, pred)\n",
    "\treturn train_accuracy, test_accuracy"
   ],
   "outputs": [],
   "metadata": {}
  },
  {
   "cell_type": "code",
   "execution_count": 11,
   "source": [
    "X_train, Y_train = extract_data(TRAIN_DATA, [9, 0])\n",
    "Y_train = np.where(Y_train == 9, 1, -1)\n",
    "X_test, Y_test = extract_data(TEST_DATA, [9, 0])\n",
    "Y_test = np.where(Y_test == 9, 1, -1)"
   ],
   "outputs": [],
   "metadata": {}
  },
  {
   "cell_type": "code",
   "execution_count": 12,
   "source": [
    "indices, alpha, b = svm_cvxopt(X_train, Y_train, 1.0, 1e-4, linear_prod, None)\n",
    "support_X = X_train[indices]\n",
    "support_Y = Y_train[indices]\n",
    "w = np.matmul((support_Y * support_X).T, alpha)\n",
    "print(accuracy_util_cvxopt(X_train, Y_train, X_test, Y_test, lambda X: linear_prediction(w, b, X)))"
   ],
   "outputs": [
    {
     "output_type": "stream",
     "name": "stdout",
     "text": [
      "(1.0, 0.9899446958270488)\n"
     ]
    }
   ],
   "metadata": {}
  },
  {
   "cell_type": "code",
   "execution_count": 13,
   "source": [
    "indices, alpha, b = svm_cvxopt(X_train, Y_train, 1.0, 1e-4, gaussian_prod, GAMMA)\n",
    "support_X = X_train[indices]\n",
    "support_Y = Y_train[indices]\n",
    "print(accuracy_util_cvxopt(X_train, Y_train, X_test, Y_test, lambda X: gaussian_prediction(alpha, support_Y, support_X, b, X)))"
   ],
   "outputs": [
    {
     "output_type": "stream",
     "name": "stdout",
     "text": [
      "(1.0, 0.9914529914529915)\n"
     ]
    }
   ],
   "metadata": {}
  },
  {
   "cell_type": "code",
   "execution_count": 18,
   "source": [
    "def svm_libsvm(X: np.ndarray, Y: np.ndarray, c: float, kernel, prod, gamma: float):\n",
    "\tparams = '-t {} -c {} -q'.format(kernel, c)\n",
    "\tif gamma:\n",
    "\t\tparams += ' -g {}'.format(gamma)\n",
    "\tmodel = svm.svm_train(Y.T[0], X, params)\n",
    "\tindices = model.get_sv_indices()\n",
    "\tfor i in range(len(indices)):\n",
    "\t\tindices[i] -= 1\n",
    "\talpha = np.array(model.get_sv_coef(), ndmin=2).T\n",
    "\tX = X[indices]\n",
    "\tY = Y[indices]\n",
    "\tinner_prod = np.sum(alpha * Y * prod(X, X, gamma), 0)\n",
    "\tM = max(range(len(alpha)), key=lambda i: -float(\"inf\") if Y[i] == 1 else inner_prod[i])\n",
    "\tm = min(range(len(alpha)), key=lambda i: float(\"inf\") if Y[i] == -1 else inner_prod[i])\n",
    "\tb = -(inner_prod[M] + inner_prod[m]) / 2\n",
    "\treturn indices, alpha, b, model"
   ],
   "outputs": [],
   "metadata": {}
  },
  {
   "cell_type": "code",
   "execution_count": 15,
   "source": [
    "def accuracy_util_libsvm(X_train: np.ndarray, Y_train: np.ndarray, X_test: np.ndarray, Y_test: np.ndarray, model):\n",
    "\ttrain_accuracy = svm.svm_predict(Y_train.T[0], X_train, model, '-q')[1][0]\n",
    "\ttest_accuracy = svm.svm_predict(Y_test.T[0], X_test, model, '-q')[1][0]\n",
    "\treturn train_accuracy, test_accuracy"
   ],
   "outputs": [],
   "metadata": {}
  },
  {
   "cell_type": "code",
   "execution_count": 19,
   "source": [
    "indices, alpha, b, model = svm_libsvm(X_train, Y_train, 1.0, svm.LINEAR, linear_prod, None)\n",
    "print(accuracy_util_libsvm(X_train, Y_train, X_test, Y_test, model))"
   ],
   "outputs": [
    {
     "output_type": "stream",
     "name": "stdout",
     "text": [
      "(100.0, 98.99446958270488)\n"
     ]
    }
   ],
   "metadata": {}
  },
  {
   "cell_type": "code",
   "execution_count": 20,
   "source": [
    "indices, alpha, b, model = svm_libsvm(X_train, Y_train, 1.0, svm.RBF, gaussian_prod, GAMMA)\n",
    "print(accuracy_util_libsvm(X_train, Y_train, X_test, Y_test, model))"
   ],
   "outputs": [
    {
     "output_type": "stream",
     "name": "stdout",
     "text": [
      "(100.0, 99.14529914529915)\n"
     ]
    }
   ],
   "metadata": {}
  }
 ],
 "metadata": {
  "orig_nbformat": 4,
  "language_info": {
   "name": "python",
   "version": "3.9.7",
   "mimetype": "text/x-python",
   "codemirror_mode": {
    "name": "ipython",
    "version": 3
   },
   "pygments_lexer": "ipython3",
   "nbconvert_exporter": "python",
   "file_extension": ".py"
  },
  "kernelspec": {
   "name": "python3",
   "display_name": "Python 3.9.7 64-bit ('base': conda)"
  },
  "interpreter": {
   "hash": "c88bcd8217886c4a06b3653a3d64d637eca0a96d4c4031ee5dfe8cf426268753"
  }
 },
 "nbformat": 4,
 "nbformat_minor": 2
}